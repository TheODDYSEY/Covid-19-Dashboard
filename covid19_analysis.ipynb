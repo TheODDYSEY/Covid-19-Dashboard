{
 "cells": [
  {
   "cell_type": "markdown",
   "metadata": {},
   "source": [
    "# COVID-19 Global Data Tracker\n",
    "### By @theoddysey\n",
    "\n",
    "This notebook analyzes global COVID-19 trends including cases, deaths, recoveries, and vaccinations across countries and time periods. We'll clean and process real-world data, perform exploratory data analysis (EDA), generate insights, and visualize trends using Python data tools."
   ]
  },
  {
   "cell_type": "markdown",
   "metadata": {},
   "source": [
    "## 1. Data Collection and Setup\n",
    "\n",
    "First, let's import the necessary libraries and load the COVID-19 dataset from Our World in Data."
   ]
  },
  {
   "cell_type": "code",
   "execution_count": null,
   "metadata": {},
   "outputs": [],
   "source": [
    "# Import necessary libraries\n",
    "import pandas as pd\n",
    "import numpy as np\n",
    "import matplotlib.pyplot as plt\n",
    "import seaborn as sns\n",
    "import plotly.express as px\n",
    "import plotly.graph_objects as go\n",
    "from plotly.subplots import make_subplots\n",
    "from datetime import datetime\n",
    "\n",
    "# Set plot styles\n",
    "plt.style.use('seaborn-v0_8-whitegrid')\n",
    "sns.set_palette('viridis')\n",
    "plt.rcParams['figure.figsize'] = (12, 8)\n",
    "plt.rcParams['font.size'] = 12"
   ]
  },
  {
   "cell_type": "code",
   "execution_count": null,
   "metadata": {},
   "outputs": [],
   "source": [
    "# Download the dataset if not already available\n",
    "import os\n",
    "import requests\n",
    "\n",
    "# Create data directory if it doesn't exist\n",
    "if not os.path.exists('data'):\n",
    "    os.makedirs('data')\n",
    "\n",
    "# URL for the Our World in Data COVID-19 dataset\n",
    "url = 'https://covid.ourworldindata.org/data/owid-covid-data.csv'\n",
    "file_path = 'data/owid-covid-data.csv'\n",
    "\n",
    "# Download the dataset if it doesn't exist\n",
    "if not os.path.exists(file_path):\n",
    "    print(f\"Downloading COVID-19 dataset from {url}...\")\n",
    "    response = requests.get(url)\n",
    "    with open(file_path, 'wb') as f:\n",
    "        f.write(response.content)\n",
    "    print(\"Download complete!\")\n",
    "else:\n",
    "    print(f\"Dataset already exists at {file_path}\")"
   ]
  },
  {
   "cell_type": "markdown",
   "metadata": {},
   "source": [
    "## 2. Data Loading & Exploration\n",
    "\n",
    "Let's load the dataset and explore its structure."
   ]
  },
  {
   "cell_type": "code",
   "execution_count": null,
   "metadata": {},
   "outputs": [],
   "source": [
    "# Load the dataset\n",
    "df = pd.read_csv(file_path)\n",
    "\n",
    "# Display basic information about the dataset\n",
    "print(f\"Dataset shape: {df.shape}\")\n",
    "print(f\"Number of countries/regions: {df['location'].nunique()}\")\n",
    "print(f\"Date range: {df['date'].min()} to {df['date'].max()}\")\n",
    "\n",
    "# Preview the first few rows\n",
    "df.head()"
   ]
  },
  {
   "cell_type": "code",
   "execution_count": null,
   "metadata": {},
   "outputs": [],
   "source": [
    "# Check the columns in the dataset\n",
    "print(\"Columns in the dataset:\")\n",
    "for col in df.columns:\n",
    "    print(f\"- {col}\")"
   ]
  },
  {
   "cell_type": "code",
   "execution_count": null,
   "metadata": {},
   "outputs": [],
   "source": [
    "# Check for missing values\n",
    "missing_values = df.isnull().sum()\n",
    "missing_percentage = (missing_values / len(df)) * 100\n",
    "\n",
    "# Create a DataFrame to display missing values\n",
    "missing_df = pd.DataFrame({\n",
    "    'Missing Values': missing_values,\n",
    "    'Percentage (%)': missing_percentage\n",
    "})\n",
    "\n",
    "# Sort by missing values in descending order\n",
    "missing_df = missing_df.sort_values('Missing Values', ascending=False)\n",
    "\n",
    "# Display columns with missing values\n",
    "missing_df[missing_df['Missing Values'] > 0]"
   ]
  },
  {
   "cell_type": "markdown",
   "metadata": {},
   "source": [
    "## 3. Data Cleaning\n",
    "\n",
    "Let's clean the data by converting the date column to datetime, handling missing values, and filtering countries of interest."
   ]
  },
  {
   "cell_type": "code",
   "execution_count": null,
   "metadata": {},
   "outputs": [],
   "source": [
    "# Convert date column to datetime\n",
    "df['date'] = pd.to_datetime(df['date'])\n",
    "\n",
    "# Select countries of interest (you can modify this list)\n",
    "countries_of_interest = ['United States', 'India', 'Brazil', 'United Kingdom', 'Russia', 'France', 'Germany', 'South Africa', 'Kenya', 'China']\n",
    "\n",
    "# Filter the dataset for countries of interest\n",
    "filtered_df = df[df['location'].isin(countries_of_interest)].copy()\n",
    "\n",
    "# Check the filtered dataset\n",
    "print(f\"Filtered dataset shape: {filtered_df.shape}\")\n",
    "print(f\"Countries in filtered dataset: {filtered_df['location'].unique()}\")\n",
    "\n",
    "# Preview the filtered dataset\n",
    "filtered_df.head()"
   ]
  },
  {
   "cell_type": "code",
   "execution_count": null,
   "metadata": {},
   "outputs": [],
   "source": [
    "# Handle missing values for key metrics\n",
    "key_metrics = ['total_cases', 'new_cases', 'total_deaths', 'new_deaths']\n",
    "\n",
    "# Fill missing values with 0 for key metrics\n",
    "for metric in key_metrics:\n",
    "    filtered_df[metric] = filtered_df[metric].fillna(0)\n",
    "\n",
    "# Calculate death rate (deaths per case)\n",
    "filtered_df['death_rate'] = (filtered_df['total_deaths'] / filtered_df['total_cases'] * 100).round(2)\n",
    "\n",
    "# Handle division by zero or missing values in death rate\n",
    "filtered_df['death_rate'] = filtered_df['death_rate'].replace([np.inf, -np.inf], np.nan).fillna(0)\n",
    "\n",
    "# Preview the cleaned dataset\n",
    "filtered_df[['location', 'date', 'total_cases', 'total_deaths', 'death_rate']].head()"
   ]
  },
  {
   "cell_type": "markdown",
   "metadata": {},
   "source": [
    "## 4. Exploratory Data Analysis (EDA)\n",
    "\n",
    "Let's analyze the COVID-19 trends across different countries."
   ]
  },
  {
   "cell_type": "code",
   "execution_count": null,
   "metadata": {},
   "outputs": [],
   "source": [
    "# Get the latest data for each country\n",
    "latest_data = filtered_df.sort_values('date').groupby('location').tail(1).sort_values('total_cases', ascending=False)\n",
    "\n",
    "# Display the latest statistics for each country\n",
    "latest_data[['location', 'date', 'total_cases', 'total_deaths', 'death_rate']]"
   ]
  },
  {
   "cell_type": "code",
   "execution_count": null,
   "metadata": {},
   "outputs": [],
   "source": [
    "# Plot total cases over time for selected countries\n",
    "plt.figure(figsize=(14, 8))\n",
    "\n",
    "for country in countries_of_interest:\n",
    "    country_data = filtered_df[filtered_df['location'] == country]\n",
    "    plt.plot(country_data['date'], country_data['total_cases'], label=country)\n",
    "\n",
    "plt.title('Total COVID-19 Cases Over Time', fontsize=16)\n",
    "plt.xlabel('Date', fontsize=14)\n",
    "plt.ylabel('Total Cases', fontsize=14)\n",
    "plt.legend()\n",
    "plt.grid(True)\n",
    "plt.xticks(rotation=45)\n",
    "plt.tight_layout()\n",
    "plt.show()"
   ]
  },
  {
   "cell_type": "code",
   "execution_count": null,
   "metadata": {},
   "outputs": [],
   "source": [
    "# Plot total deaths over time for selected countries\n",
    "plt.figure(figsize=(14, 8))\n",
    "\n",
    "for country in countries_of_interest:\n",
    "    country_data = filtered_df[filtered_df['location'] == country]\n",
    "    plt.plot(country_data['date'], country_data['total_deaths'], label=country)\n",
    "\n",
    "plt.title('Total COVID-19 Deaths Over Time', fontsize=16)\n",
    "plt.xlabel('Date', fontsize=14)\n",
    "plt.ylabel('Total Deaths', fontsize=14)\n",
    "plt.legend()\n",
    "plt.grid(True)\n",
    "plt.xticks(rotation=45)\n",
    "plt.tight_layout()\n",
    "plt.show()"
   ]
  },
  {
   "cell_type": "code",
   "execution_count": null,
   "metadata": {},
   "outputs": [],
   "source": [
    "# Create a bar chart for total cases by country (latest data)\n",
    "plt.figure(figsize=(14, 8))\n",
    "sns.barplot(x='location', y='total_cases', data=latest_data)\n",
    "plt.title('Total COVID-19 Cases by Country (Latest Data)', fontsize=16)\n",
    "plt.xlabel('Country', fontsize=14)\n",
    "plt.ylabel('Total Cases', fontsize=14)\n",
    "plt.xticks(rotation=45)\n",
    "plt.tight_layout()\n",
    "plt.show()"
   ]
  },
  {
   "cell_type": "code",
   "execution_count": null,
   "metadata": {},
   "outputs": [],
   "source": [
    "# Create a bar chart for death rates by country (latest data)\n",
    "plt.figure(figsize=(14, 8))\n",
    "sns.barplot(x='location', y='death_rate', data=latest_data)\n",
    "plt.title('COVID-19 Death Rate by Country (Latest Data)', fontsize=16)\n",
    "plt.xlabel('Country', fontsize=14)\n",
    "plt.ylabel('Death Rate (%)', fontsize=14)\n",
    "plt.xticks(rotation=45)\n",
    "plt.tight_layout()\n",
    "plt.show()"
   ]
  },
  {
   "cell_type": "markdown",
   "metadata": {},
   "source": [
    "## 5. Visualizing Vaccination Progress\n",
    "\n",
    "Let's analyze the vaccination rollout across different countries."
   ]
  },
  {
   "cell_type": "code",
   "execution_count": null,
   "metadata": {},
   "outputs": [],
   "source": [
    "# Check vaccination-related columns\n",
    "vax_columns = [col for col in df.columns if 'vaccin' in col.lower()]\n",
    "print(\"Vaccination-related columns:\")\n",
    "for col in vax_columns:\n",
    "    print(f\"- {col}\")"
   ]
  },
  {
   "cell_type": "code",
   "execution_count": null,
   "metadata": {},
   "outputs": [],
   "source": [
    "# Plot total vaccinations over time for selected countries\n",
    "plt.figure(figsize=(14, 8))\n",
    "\n",
    "for country in countries_of_interest:\n",
    "    country_data = filtered_df[filtered_df['location'] == country]\n",
    "    plt.plot(country_data['date'], country_data['total_vaccinations'], label=country)\n",
    "\n",
    "plt.title('Total COVID-19 Vaccinations Over Time', fontsize=16)\n",
    "plt.xlabel('Date', fontsize=14)\n",
    "plt.ylabel('Total Vaccinations', fontsize=14)\n",
    "plt.legend()\n",
    "plt.grid(True)\n",
    "plt.xticks(rotation=45)\n",
    "plt.tight_layout()\n",
    "plt.show()"
   ]
  },
  {
   "cell_type": "code",
   "execution_count": null,
   "metadata": {},
   "outputs": [],
   "source": [
    "# Plot percentage of population vaccinated\n",
    "plt.figure(figsize=(14, 8))\n",
    "\n",
    "for country in countries_of_interest:\n",
    "    country_data = filtered_df[filtered_df['location'] == country]\n",
    "    plt.plot(country_data['date'], country_data['people_vaccinated_per_hundred'], label=country)\n",
    "\n",
    "plt.title('Percentage of Population Vaccinated Over Time', fontsize=16)\n",
    "plt.xlabel('Date', fontsize=14)\n",
    "plt.ylabel('People Vaccinated (%)', fontsize=14)\n",
    "plt.legend()\n",
    "plt.grid(True)\n",
    "plt.xticks(rotation=45)\n",
    "plt.tight_layout()\n",
    "plt.show()"
   ]
  },
  {
   "cell_type": "code",
   "execution_count": null,
   "metadata": {},
   "outputs": [],
   "source": [
    "# Create a bar chart for vaccination rates by country (latest data)\n",
    "plt.figure(figsize=(14, 8))\n",
    "sns.barplot(x='location', y='people_vaccinated_per_hundred', data=latest_data)\n",
    "plt.title('COVID-19 Vaccination Rate by Country (Latest Data)', fontsize=16)\n",
    "plt.xlabel('Country', fontsize=14)\n",
    "plt.ylabel('People Vaccinated (%)', fontsize=14)\n",
    "plt.xticks(rotation=45)\n",
    "plt.tight_layout()\n",
    "plt.show()"
   ]
  },
  {
   "cell_type": "markdown",
   "metadata": {},
   "source": [
    "## 6. Building a Choropleth Map\n",
    "\n",
    "Let's create a world map visualization for COVID-19 cases and vaccination rates."
   ]
  },
  {
   "cell_type": "code",
   "execution_count": null,
   "metadata": {},
   "outputs": [],
   "source": [
    "# Get the latest data for all countries\n",
    "latest_global_data = df.sort_values('date').groupby('location').tail(1)\n",
    "\n",
    "# Create a choropleth map for total cases\n",
    "fig = px.choropleth(\n",
    "    latest_global_data,\n",
    "    locations=\"iso_code\",\n",
    "    color=\"total_cases\",\n",
    "    hover_name=\"location\",\n",
    "    hover_data=[\"total_cases\", \"total_deaths\", \"death_rate\"],\n",
    "    color_continuous_scale=\"Viridis\",\n",
    "    title=\"Global COVID-19 Cases\"\n",
    ")\n",
    "\n",
    "fig.update_layout(height=600, width=1000)\n",
    "fig.show()"
   ]
  },
  {
   "cell_type": "code",
   "execution_count": null,
   "metadata": {},
   "outputs": [],
   "source": [
    "# Create a choropleth map for vaccination rates\n",
    "fig = px.choropleth(\n",
    "    latest_global_data,\n",
    "    locations=\"iso_code\",\n",
    "    color=\"people_vaccinated_per_hundred\",\n",
    "    hover_name=\"location\",\n",
    "    hover_data=[\"people_vaccinated_per_hundred\", \"people_fully_vaccinated_per_hundred\"],\n",
    "    color_continuous_scale=\"Viridis\",\n",
    "    title=\"Global COVID-19 Vaccination Rates (%)\"\n",
    ")\n",
    "\n",
    "fig.update_layout(height=600, width=1000)\n",
    "fig.show()"
   ]
  },
  {
   "cell_type": "markdown",
   "metadata": {},
   "source": [
    "## 7. Insights & Reporting\n",
    "\n",
    "Let's summarize our findings and insights from the COVID-19 data analysis."
   ]
  },
  {
   "cell_type": "markdown",
   "metadata": {},
   "source": [
    "### Key Insights from the COVID-19 Data Analysis\n",
    "\n",
    "1. **Global Case Distribution**: The United States, India, and Brazil have consistently reported the highest number of COVID-19 cases globally, indicating the severity of the pandemic in these regions.\n",
    "\n",
    "2. **Death Rate Variations**: Despite having high case numbers, some countries have managed to maintain lower death rates, suggesting differences in healthcare capacity, testing strategies, and population demographics.\n",
    "\n",
    "3. **Vaccination Progress**: Countries like the United Kingdom and the United States have achieved higher vaccination rates compared to others, demonstrating the disparity in vaccine distribution and administration globally.\n",
    "\n",
    "4. **Waves of Infection**: The data reveals multiple waves of infection across different countries, with varying timing and intensity, highlighting the dynamic nature of the pandemic and the influence of public health measures.\n",
    "\n",
    "5. **Correlation Between Measures**: There appears to be a correlation between early vaccination rollout and reduced death rates in subsequent waves, suggesting the effectiveness of vaccines in mitigating the severity of the pandemic."
   ]
  },
  {
   "cell_type": "markdown",
   "metadata": {},
   "source": [
    "### Conclusion\n",
    "\n",
    "This analysis provides valuable insights into the global COVID-19 pandemic, highlighting the disparities in case numbers, death rates, and vaccination progress across different countries. The visualizations help in understanding the temporal trends and geographical distribution of the pandemic.\n",
    "\n",
    "The data suggests that while the pandemic has affected countries worldwide, the impact has been uneven, with some countries experiencing more severe outbreaks than others. Vaccination has emerged as a crucial tool in combating the pandemic, with countries having higher vaccination rates showing signs of recovery.\n",
    "\n",
    "Future analysis could focus on the relationship between public health measures, vaccination rates, and pandemic outcomes, as well as the long-term economic and social impacts of the pandemic."
   ]
  }
 ],
 "metadata": {
  "kernelspec": {
   "display_name": "Python 3",
   "language": "python",
   "name": "python3"
  },
  "language_info": {
   "codemirror_mode": {
    "name": "ipython",
    "version": 3
   },
   "file_extension": ".py",
   "mimetype": "text/x-python",
   "name": "python",
   "nbconvert_exporter": "python",
   "pygments_lexer": "ipython3",
   "version": "3.12.10"
  }
 },
 "nbformat": 4,
 "nbformat_minor": 4
}
